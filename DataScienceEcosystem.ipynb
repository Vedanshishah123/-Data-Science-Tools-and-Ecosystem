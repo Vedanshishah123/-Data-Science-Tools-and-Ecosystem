{
 "cells": [
  {
   "cell_type": "markdown",
   "id": "c7280342-54ee-48f2-a3a7-61d68c18197b",
   "metadata": {},
   "source": [
    "# Data Science Tools and Ecosystem\n"
   ]
  },
  {
   "cell_type": "markdown",
   "id": "6529de0e-0b53-4767-80d2-83ac0c0b49fc",
   "metadata": {},
   "source": [
    "## Author\n",
    " Vedanshi Shah"
   ]
  },
  {
   "cell_type": "markdown",
   "id": "0210278a-6c47-4d10-989b-e147b9bda73f",
   "metadata": {},
   "source": [
    "# Introduction\n",
    "**Objectives:**\r\n",
    "\r\n",
    "- List popular languages for Data Science\r\n",
    "- Identify common libraries used in Data Science\r\n",
    "- Understand development environments for Data Science\r\n",
    "- Demonstrate arithmetic expressions in Python\r\n",
    "- Describe key Data Science tools and their uses\r\n"
   ]
  },
  {
   "cell_type": "markdown",
   "id": "37a257ad-ca30-4904-8ec6-5b5ce16663e4",
   "metadata": {},
   "source": [
    "In this notebook, Data Science Tools and Ecosystem are summarized."
   ]
  },
  {
   "cell_type": "markdown",
   "id": "f4f267df-902b-4bb6-995a-eeacdb94510c",
   "metadata": {},
   "source": [
    "Some of the popular languages that Data Scientists use are:\n",
    "1. Python\n",
    "   - Widely used for its simplicity, large number of libraries (like pandas, NumPy, and scikit-learn), and versatility.\n",
    "   \n",
    "2. R\n",
    "   - Popular among statisticians and data scientists, especially for statistical analysis and data visualization with libraries like ggplot2 and dplyr.\n",
    "   \n",
    "3. SQL\n",
    "   - Essential for data manipulation and querying databases, often used to access and manage data before analysis in Python or R.\n",
    "   \n",
    "4. Julia\n",
    "   - Known for its speed and performance, especially in numerical and scientific computing, though less widely adopted than Python or R.\n"
   ]
  },
  {
   "cell_type": "markdown",
   "id": "bd9d4313-ed01-428a-8ad8-34ee0e123c4b",
   "metadata": {},
   "source": [
    "Some of the commonly used libraries used by Data Scientists include:\n",
    "1. pandas\n",
    "   - Used for data manipulation and analysis, providing data structures like DataFrames.\n",
    "\n",
    "2. NumPy\n",
    "   - Fundamental package for numerical computing, often used for array operations and mathematical functions.\n",
    "\n",
    "3. scikit-learn\n",
    "   - Library for machine learning, providing simple and efficient tools for data mining and data analysis.\n",
    "\n",
    "4. matplotlib\n",
    "   - A plotting library used for creating static, animated, and interactive visualizations in Python."
   ]
  },
  {
   "cell_type": "markdown",
   "id": "0a86d727-7d54-482e-a4dc-d82c8bfb467d",
   "metadata": {},
   "source": [
    "# Data Science Tools\n",
    "\n",
    "| Data Science Tools           |\n",
    "|------------------------------|\n",
    "| Jupyter Notebook             |\n",
    "| RStudio                      |\n",
    "| Apache Zeppelin              |\n"
   ]
  },
  {
   "cell_type": "markdown",
   "id": "917e932c-0d0c-4d0c-bb48-578cf0cf7f66",
   "metadata": {},
   "source": [
    "### Below are a few examples of evaluating arithmetic expressions in Python.\n"
   ]
  },
  {
   "cell_type": "code",
   "execution_count": 6,
   "id": "aa77c841-7962-4552-906d-d483cb2f041e",
   "metadata": {},
   "outputs": [
    {
     "name": "stdout",
     "output_type": "stream",
     "text": [
      "17\n"
     ]
    }
   ],
   "source": [
    "#This a simple arithmetic expression to mutiply then add integers\n",
    "print((3*4)+5)"
   ]
  },
  {
   "cell_type": "code",
   "execution_count": 12,
   "id": "4bd5b867-8cf6-4efc-9815-318ad190c6dc",
   "metadata": {},
   "outputs": [
    {
     "name": "stdout",
     "output_type": "stream",
     "text": [
      "3\n"
     ]
    }
   ],
   "source": [
    "#This will convert 200 minutes to hours by diving by 60\n",
    "hours=200//60\n",
    "print(hours)"
   ]
  },
  {
   "cell_type": "markdown",
   "id": "4236687c-8962-4216-8505-4478a54846d4",
   "metadata": {},
   "source": []
  }
 ],
 "metadata": {
  "kernelspec": {
   "display_name": "Python 3 (ipykernel)",
   "language": "python",
   "name": "python3"
  },
  "language_info": {
   "codemirror_mode": {
    "name": "ipython",
    "version": 3
   },
   "file_extension": ".py",
   "mimetype": "text/x-python",
   "name": "python",
   "nbconvert_exporter": "python",
   "pygments_lexer": "ipython3",
   "version": "3.10.4"
  }
 },
 "nbformat": 4,
 "nbformat_minor": 5
}
